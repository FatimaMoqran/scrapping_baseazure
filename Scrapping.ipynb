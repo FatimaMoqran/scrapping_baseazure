{
 "cells": [
  {
   "cell_type": "markdown",
   "metadata": {},
   "source": [
    "### Instalation des librairies"
   ]
  },
  {
   "cell_type": "code",
   "execution_count": null,
   "metadata": {},
   "outputs": [],
   "source": [
    "#install beautiful soup\n",
    "!pip install bs4\n"
   ]
  },
  {
   "cell_type": "code",
   "execution_count": null,
   "metadata": {},
   "outputs": [],
   "source": [
    "#install parser\n",
    "!pip install lxml"
   ]
  },
  {
   "cell_type": "code",
   "execution_count": null,
   "metadata": {},
   "outputs": [],
   "source": [
    "!pip install html5lib"
   ]
  },
  {
   "cell_type": "code",
   "execution_count": null,
   "metadata": {},
   "outputs": [],
   "source": [
    "!pip install requests"
   ]
  },
  {
   "cell_type": "code",
   "execution_count": null,
   "metadata": {},
   "outputs": [],
   "source": [
    "#packages pour scrapper des pages html\n",
    "import urllib\n",
    "import bs4\n",
    "#help(bs4)"
   ]
  },
  {
   "cell_type": "code",
   "execution_count": null,
   "metadata": {},
   "outputs": [],
   "source": [
    "import pandas as pd"
   ]
  },
  {
   "cell_type": "markdown",
   "metadata": {},
   "source": [
    "### Tests avec la librairie"
   ]
  },
  {
   "cell_type": "code",
   "execution_count": null,
   "metadata": {},
   "outputs": [],
   "source": [
    "#Etape 1 se connecter à la page allocine et obtenir le code source\n",
    "url_allo_cine= \"http://www.allocine.fr/films/\"\n",
    "from urllib import request\n",
    "\n",
    "request_text = request.urlopen(url_allo_cine).read()\n",
    "print(request_text[:5000])"
   ]
  },
  {
   "cell_type": "code",
   "execution_count": null,
   "metadata": {},
   "outputs": [],
   "source": [
    "#etape 2 : utiliser la package beautifulSoup qui \"comprend\" les balises contenues dans la chaine de caractères renvoyée par la fonction request\n",
    "\n",
    "page = bs4.BeautifulSoup(request_text,\"lxml\")\n",
    "\n",
    "print(page)"
   ]
  },
  {
   "cell_type": "code",
   "execution_count": null,
   "metadata": {},
   "outputs": [],
   "source": [
    "print(page.find('meta-title'))"
   ]
  },
  {
   "cell_type": "code",
   "execution_count": null,
   "metadata": {},
   "outputs": [],
   "source": [
    "print(page.find('table'))"
   ]
  },
  {
   "cell_type": "code",
   "execution_count": null,
   "metadata": {},
   "outputs": [],
   "source": [
    "import requests\n",
    "from requests import get"
   ]
  },
  {
   "cell_type": "code",
   "execution_count": null,
   "metadata": {},
   "outputs": [],
   "source": [
    "#download a page\n",
    "page = requests.get(\"http://www.allocine.fr/films/\")"
   ]
  },
  {
   "cell_type": "code",
   "execution_count": null,
   "metadata": {},
   "outputs": [],
   "source": [
    "page "
   ]
  },
  {
   "cell_type": "code",
   "execution_count": null,
   "metadata": {},
   "outputs": [],
   "source": [
    "#print the html content\n",
    "#page.content"
   ]
  },
  {
   "cell_type": "code",
   "execution_count": null,
   "metadata": {},
   "outputs": [],
   "source": [
    "from bs4 import BeautifulSoup"
   ]
  },
  {
   "cell_type": "code",
   "execution_count": null,
   "metadata": {},
   "outputs": [],
   "source": [
    "#parse the document\n",
    "soup = BeautifulSoup(page.content, 'lxml')"
   ]
  },
  {
   "cell_type": "code",
   "execution_count": null,
   "metadata": {},
   "outputs": [],
   "source": [
    "#print tje html content of the page formatted nicely\n",
    "print(soup.prettify())"
   ]
  },
  {
   "cell_type": "code",
   "execution_count": null,
   "metadata": {},
   "outputs": [],
   "source": [
    "#select the elements at the top level of the page\n",
    "list(soup.children)"
   ]
  },
  {
   "cell_type": "code",
   "execution_count": null,
   "metadata": {},
   "outputs": [],
   "source": [
    "[type(item) for item in list(soup.children)]"
   ]
  },
  {
   "cell_type": "code",
   "execution_count": null,
   "metadata": {},
   "outputs": [],
   "source": [
    "#select the html tag and its children\n",
    "html = list(soup.children)[1]"
   ]
  },
  {
   "cell_type": "code",
   "execution_count": null,
   "metadata": {},
   "outputs": [],
   "source": [
    "list(html.children)"
   ]
  },
  {
   "cell_type": "markdown",
   "metadata": {},
   "source": [
    "### scapping allocine"
   ]
  },
  {
   "cell_type": "code",
   "execution_count": null,
   "metadata": {},
   "outputs": [],
   "source": [
    " for film in soup.find_all('li',{\"class\":\"mdl\"}):\n",
    "    \n",
    "    #titre film \n",
    "    titre_film = film.h2.text\n",
    "    if titre_film != None:\n",
    "        print(film.h2.text)\n",
    "    else :\n",
    "        titre_film = 'undefined'\n",
    "        print(titre_film)\n",
    " \n",
    "    #notes:\n",
    "    \n",
    "    if film.find_all('span',{\"class\":\"stareval-note\"})!= None:\n",
    "        notes = film.find_all('span',{\"class\":\"stareval-note\"})\n",
    "        if (len(notes))>1 and (notes != None):\n",
    "            note_presse = notes[0].text\n",
    "            note_spect = notes[1].text\n",
    "        elif len(notes) == 1:\n",
    "            note_presse = notes[0].text\n",
    "            note_spect = \"undefined\"\n",
    "        else:\n",
    "            note_presse = \"undefined\"\n",
    "            note_spect = \"undefined\"\n",
    "            \n",
    "    else:\n",
    "        note_presse = \"undefined\"\n",
    "        note_spect = \"undefined\"\n",
    "    print(note_presse)\n",
    "    print(note_spect)\n",
    "\n",
    "    #date\n",
    "    if film.find('span',{\"class\":\"date\"})!= None:\n",
    "        date = film.find('span',{\"class\":\"date\"})\n",
    "    else:\n",
    "        date = \"undefined\"\n",
    "    print(date.text)\n",
    "    \n",
    "    \n",
    "    #duree\n",
    "    if film.find('span',{\"class\":\"spacer\"}).nextSibling != None:\n",
    "        duree = film.find('span',{\"class\":\"spacer\"}).nextSibling\n",
    "    else:\n",
    "        duree = \"undefined\"\n",
    "        \n",
    "    print(duree.strip())\n",
    "    \n",
    "    #realisateur\n",
    "    if film.find('a',{\"class\":\"blue-link\"}) != None:\n",
    "        realisateur = film.find('a',{\"class\":\"blue-link\"})\n",
    "    else:\n",
    "        realisateur = \"undefined\"\n",
    "    print(realisateur.text)\n",
    "        \n",
    "    #genre\n",
    "    genres = film.find_all(\"div\", {\"class\":\"meta-body-item meta-body-info\"})\n",
    "    \n",
    "    list_of_genres=[]\n",
    "    for genre in genres:\n",
    "        if len(genre.find_all(\"span\")) < 4:\n",
    "            list_of_genres.append(', '.join([span.get_text() for span in genre.find_all(\"span\")[2:]]))\n",
    "        else:\n",
    "            list_of_genres.append(', '.join([span.get_text() for span in genre.find_all(\"span\")[3:]]))\n",
    "    \n",
    "        print(list_of_genres)    \n",
    "    \n",
    "    #resume\n",
    "    resume = film.find('div', {\"class\":\"content-txt\"})\n",
    "    print(resume.text.strip())"
   ]
  },
  {
   "cell_type": "code",
   "execution_count": null,
   "metadata": {},
   "outputs": [],
   "source": [
    "# création dataframe\n",
    "column_names = [\"titre_film\", \"note_presse\", \"note_spect\", \"date_sortie\", \"duree\", \"réalisateur\", \"résumé\"]\n",
    "df = pd.DataFrame(columns = column_names)\n",
    "# df = df.append(df, ignore_index = True)"
   ]
  },
  {
   "cell_type": "code",
   "execution_count": null,
   "metadata": {},
   "outputs": [],
   "source": [
    "df.head(200)"
   ]
  },
  {
   "cell_type": "code",
   "execution_count": null,
   "metadata": {},
   "outputs": [],
   "source": [
    "df.head(1)"
   ]
  },
  {
   "cell_type": "markdown",
   "metadata": {},
   "source": [
    "### Mettre le dataframe dans une base de donnée SQL sur Azure"
   ]
  },
  {
   "cell_type": "code",
   "execution_count": null,
   "metadata": {},
   "outputs": [],
   "source": [
    "#install les librairies et drivers \n",
    "\n",
    "!pip install pyodbc\n",
    "! pip install sqlalchemy"
   ]
  },
  {
   "cell_type": "code",
   "execution_count": null,
   "metadata": {},
   "outputs": [],
   "source": [
    "from sqlalchemy import create_engine"
   ]
  },
  {
   "cell_type": "code",
   "execution_count": null,
   "metadata": {},
   "outputs": [],
   "source": [
    "\n",
    "\n",
    "AZURESRV = '******.database.windows.net'\n",
    "AZUREDB = '*******'\n",
    "AZUREUID = '*******'\n",
    "AZUREPWD = '****************'\n",
    "DRIVER= 'ODBC Driver 17 for SQL Server'\n",
    "TABLE = 'film10'\n",
    "connectionstring = 'mssql+pyodbc://{uid}:{password}@{server}:1433/{database}?driver={driver}'.format(\n",
    "        uid=AZUREUID,\n",
    "        password=AZUREPWD,\n",
    "        server=AZURESRV,\n",
    "        database=AZUREDB,\n",
    "        driver=DRIVER.replace(' ', '+'))\n",
    "\n"
   ]
  },
  {
   "cell_type": "code",
   "execution_count": null,
   "metadata": {},
   "outputs": [],
   "source": [
    "engn = create_engine(connectionstring)\n"
   ]
  },
  {
   "cell_type": "code",
   "execution_count": null,
   "metadata": {},
   "outputs": [],
   "source": [
    "df.to_sql(TABLE, engn, if_exists='append', index=False)"
   ]
  },
  {
   "cell_type": "code",
   "execution_count": null,
   "metadata": {},
   "outputs": [],
   "source": []
  }
 ],
 "metadata": {
  "kernelspec": {
   "display_name": "Python 3",
   "language": "python",
   "name": "python3"
  },
  "language_info": {
   "codemirror_mode": {
    "name": "ipython",
    "version": 3
   },
   "file_extension": ".py",
   "mimetype": "text/x-python",
   "name": "python",
   "nbconvert_exporter": "python",
   "pygments_lexer": "ipython3",
   "version": "3.6.10"
  },
  "varInspector": {
   "cols": {
    "lenName": 16,
    "lenType": 16,
    "lenVar": 40
   },
   "kernels_config": {
    "python": {
     "delete_cmd_postfix": "",
     "delete_cmd_prefix": "del ",
     "library": "var_list.py",
     "varRefreshCmd": "print(var_dic_list())"
    },
    "r": {
     "delete_cmd_postfix": ") ",
     "delete_cmd_prefix": "rm(",
     "library": "var_list.r",
     "varRefreshCmd": "cat(var_dic_list()) "
    }
   },
   "types_to_exclude": [
    "module",
    "function",
    "builtin_function_or_method",
    "instance",
    "_Feature"
   ],
   "window_display": false
  }
 },
 "nbformat": 4,
 "nbformat_minor": 4
}
